{
 "cells": [
  {
   "cell_type": "markdown",
   "id": "d05ab42a",
   "metadata": {},
   "source": [
    "## Trying Lantana Polygon updates in Python"
   ]
  },
  {
   "cell_type": "markdown",
   "id": "6a3be94a",
   "metadata": {},
   "source": [
    "Using Geopandas\n",
    "\n",
    "Feature classes can be imported using GeoPandas by using read_file() command. It uses Python's Fiona package which leverages a collection of drivers that provide access to a numver of geospatial data formats. Geopandas simplifies the usage of Fiona commands, making import and export of geodataframes easier to use."
   ]
  },
  {
   "cell_type": "code",
   "execution_count": 1,
   "id": "e0b6d570",
   "metadata": {},
   "outputs": [],
   "source": [
    "# import geopandas\n",
    "import geopandas as gpd"
   ]
  },
  {
   "cell_type": "code",
   "execution_count": 45,
   "id": "0519a99d",
   "metadata": {},
   "outputs": [],
   "source": [
    "# Create a variable pointing to the shapefile\n",
    "LantPoly= 'C:/Columbia/Spring2021/DirectedResearch/Data/classification/NewTrainingData/Feb2023/LantanaFeb2023.shp'\n",
    "FallowPoly= 'C:/Columbia/Spring2021/DirectedResearch/Data/classification/NewTrainingData/Feb2023/fallowMergeNewNoldPlusNewFeb.shp'\n",
    "ForestPoly= 'C:/Columbia/Spring2021/DirectedResearch/Data/classification/NewTrainingData/FinalTrainingDataNov28/ForestNewNOld28Nov.shp'\n",
    "WaterPoly= 'C:/Columbia/Spring2021/DirectedResearch/Data/classification/NewTrainingData/FinalTrainingDataNov28/WaterNewNOld28Nov.shp'\n",
    "CropPoly= 'C:/Columbia/Spring2021/DirectedResearch/Data/classification/NewTrainingData/FinalTrainingDataNov28/CropOldNNewmerge28Nov.shp'\n",
    "BuiltPoly= 'C:/Columbia/Spring2021/DirectedResearch/Data/classification/NewTrainingData/Feb2023/BuiltUpFeb2023.shp'\n",
    "RegenPoly= 'C:/Columbia/Spring2021/DirectedResearch/Data/classification/NewTrainingData/FinalTrainingDataNov28/Regen20s83Merge.shp'\n"
   ]
  },
  {
   "cell_type": "code",
   "execution_count": 46,
   "id": "b588d853",
   "metadata": {},
   "outputs": [],
   "source": [
    "# read the shapefile directly into a geodataframe\n",
    "gdf_LantROI= gpd.read_file(LantPoly)\n",
    "gdf_FallowROI= gpd.read_file(FallowPoly)\n",
    "gdf_ForestROI= gpd.read_file(ForestPoly)\n",
    "gdf_WaterROI= gpd.read_file(WaterPoly)\n",
    "gdf_CropROI= gpd.read_file(CropPoly)\n",
    "gdf_BuiltROI= gpd.read_file(BuiltPoly)\n",
    "gdf_RegenROI= gpd.read_file(RegenPoly)"
   ]
  },
  {
   "cell_type": "markdown",
   "id": "be1b8935",
   "metadata": {},
   "source": [
    "## Exploring the Geodataframe"
   ]
  },
  {
   "cell_type": "code",
   "execution_count": 9,
   "id": "7da255c2",
   "metadata": {},
   "outputs": [
    {
     "data": {
      "text/html": [
       "<div>\n",
       "<style scoped>\n",
       "    .dataframe tbody tr th:only-of-type {\n",
       "        vertical-align: middle;\n",
       "    }\n",
       "\n",
       "    .dataframe tbody tr th {\n",
       "        vertical-align: top;\n",
       "    }\n",
       "\n",
       "    .dataframe thead th {\n",
       "        text-align: right;\n",
       "    }\n",
       "</style>\n",
       "<table border=\"1\" class=\"dataframe\">\n",
       "  <thead>\n",
       "    <tr style=\"text-align: right;\">\n",
       "      <th></th>\n",
       "      <th>landcover</th>\n",
       "      <th>label</th>\n",
       "      <th>UID</th>\n",
       "      <th>geometry</th>\n",
       "    </tr>\n",
       "  </thead>\n",
       "  <tbody>\n",
       "    <tr>\n",
       "      <th>0</th>\n",
       "      <td>2</td>\n",
       "      <td>Lantana</td>\n",
       "      <td>0</td>\n",
       "      <td>POLYGON ((80.66558 22.44114, 80.66586 22.44100...</td>\n",
       "    </tr>\n",
       "    <tr>\n",
       "      <th>1</th>\n",
       "      <td>2</td>\n",
       "      <td>Lantana</td>\n",
       "      <td>1</td>\n",
       "      <td>POLYGON ((80.66232 22.44162, 80.66279 22.44135...</td>\n",
       "    </tr>\n",
       "    <tr>\n",
       "      <th>2</th>\n",
       "      <td>2</td>\n",
       "      <td>Lantana</td>\n",
       "      <td>2</td>\n",
       "      <td>POLYGON ((80.70577 22.42839, 80.70606 22.42842...</td>\n",
       "    </tr>\n",
       "    <tr>\n",
       "      <th>3</th>\n",
       "      <td>2</td>\n",
       "      <td>Lantana</td>\n",
       "      <td>3</td>\n",
       "      <td>POLYGON ((80.70878 22.40295, 80.70946 22.40363...</td>\n",
       "    </tr>\n",
       "    <tr>\n",
       "      <th>4</th>\n",
       "      <td>2</td>\n",
       "      <td>Lantana</td>\n",
       "      <td>4</td>\n",
       "      <td>POLYGON ((80.81543 22.39629, 80.81603 22.39623...</td>\n",
       "    </tr>\n",
       "  </tbody>\n",
       "</table>\n",
       "</div>"
      ],
      "text/plain": [
       "   landcover    label  UID                                           geometry\n",
       "0          2  Lantana    0  POLYGON ((80.66558 22.44114, 80.66586 22.44100...\n",
       "1          2  Lantana    1  POLYGON ((80.66232 22.44162, 80.66279 22.44135...\n",
       "2          2  Lantana    2  POLYGON ((80.70577 22.42839, 80.70606 22.42842...\n",
       "3          2  Lantana    3  POLYGON ((80.70878 22.40295, 80.70946 22.40363...\n",
       "4          2  Lantana    4  POLYGON ((80.81543 22.39629, 80.81603 22.39623..."
      ]
     },
     "execution_count": 9,
     "metadata": {},
     "output_type": "execute_result"
    }
   ],
   "source": [
    "# view first five rows\n",
    "gdf_LantROI.head()"
   ]
  },
  {
   "cell_type": "code",
   "execution_count": 10,
   "id": "c1438929",
   "metadata": {},
   "outputs": [
    {
     "name": "stdout",
     "output_type": "stream",
     "text": [
      "<class 'geopandas.geodataframe.GeoDataFrame'>\n",
      "RangeIndex: 89 entries, 0 to 88\n",
      "Data columns (total 4 columns):\n",
      " #   Column     Non-Null Count  Dtype   \n",
      "---  ------     --------------  -----   \n",
      " 0   landcover  89 non-null     int64   \n",
      " 1   label      81 non-null     object  \n",
      " 2   UID        89 non-null     int64   \n",
      " 3   geometry   89 non-null     geometry\n",
      "dtypes: geometry(1), int64(2), object(1)\n",
      "memory usage: 2.9+ KB\n"
     ]
    }
   ],
   "source": [
    "gdf_LantROI.info()"
   ]
  },
  {
   "cell_type": "code",
   "execution_count": 11,
   "id": "6540f0d4",
   "metadata": {},
   "outputs": [
    {
     "data": {
      "text/plain": [
       "landcover                                                    2\n",
       "label                                                  Lantana\n",
       "UID                                                         10\n",
       "geometry     POLYGON ((80.67636029485341 22.44417639582543,...\n",
       "Name: 10, dtype: object"
      ]
     },
     "execution_count": 11,
     "metadata": {},
     "output_type": "execute_result"
    }
   ],
   "source": [
    "gdf_LantROI.loc[10]"
   ]
  },
  {
   "cell_type": "code",
   "execution_count": 12,
   "id": "2f75da32",
   "metadata": {},
   "outputs": [
    {
     "data": {
      "image/svg+xml": [
       "<svg xmlns=\"http://www.w3.org/2000/svg\" xmlns:xlink=\"http://www.w3.org/1999/xlink\" width=\"100.0\" height=\"100.0\" viewBox=\"80.67601139310476 22.444149359158562 0.0007299900054817954 0.0006292087016674941\" preserveAspectRatio=\"xMinYMin meet\"><g transform=\"matrix(1,0,0,-1,0,44.88892792701879)\"><path fill-rule=\"evenodd\" fill=\"#66cc99\" stroke=\"#555555\" stroke-width=\"1.4599800109635908e-05\" opacity=\"0.6\" d=\"M 80.67636029485341,22.444176395825433 L 80.67603842977162,22.44429538954549 L 80.67629592183705,22.444751531193358 L 80.6765212273943,22.444672202318866 L 80.67671434644338,22.444592873399024 L 80.67642466786977,22.44438463476855 L 80.67636029485341,22.444176395825433 z\" /></g></svg>"
      ],
      "text/plain": [
       "<shapely.geometry.polygon.Polygon at 0x283d5f65278>"
      ]
     },
     "execution_count": 12,
     "metadata": {},
     "output_type": "execute_result"
    }
   ],
   "source": [
    "gdf_LantROI.loc[10, 'geometry']"
   ]
  },
  {
   "cell_type": "code",
   "execution_count": 13,
   "id": "28f9dc33",
   "metadata": {},
   "outputs": [
    {
     "data": {
      "text/plain": [
       "<AxesSubplot:>"
      ]
     },
     "execution_count": 13,
     "metadata": {},
     "output_type": "execute_result"
    },
    {
     "data": {
      "image/png": "[encoded data removed]",
      "text/plain": [
       "<Figure size 432x288 with 1 Axes>"
      ]
     },
     "metadata": {
      "needs_background": "light"
     },
     "output_type": "display_data"
    }
   ],
   "source": [
    "#display as simple polygon FC\n",
    "gdf_LantROI.plot()"
   ]
  },
  {
   "cell_type": "code",
   "execution_count": 14,
   "id": "0b38be0d",
   "metadata": {},
   "outputs": [
    {
     "data": {
      "text/plain": [
       "<AxesSubplot:>"
      ]
     },
     "execution_count": 14,
     "metadata": {},
     "output_type": "execute_result"
    },
    {
     "data": {
      "image/png": "[encoded data removed]",
      "text/plain": [
       "<Figure size 432x288 with 1 Axes>"
      ]
     },
     "metadata": {
      "needs_background": "light"
     },
     "output_type": "display_data"
    }
   ],
   "source": [
    "gdf_LantROI.plot('landcover', cmap='Set2')"
   ]
  },
  {
   "cell_type": "code",
   "execution_count": 15,
   "id": "8ce91e57",
   "metadata": {},
   "outputs": [
    {
     "data": {
      "text/html": [
       "<div>\n",
       "<style scoped>\n",
       "    .dataframe tbody tr th:only-of-type {\n",
       "        vertical-align: middle;\n",
       "    }\n",
       "\n",
       "    .dataframe tbody tr th {\n",
       "        vertical-align: top;\n",
       "    }\n",
       "\n",
       "    .dataframe thead th {\n",
       "        text-align: right;\n",
       "    }\n",
       "</style>\n",
       "<table border=\"1\" class=\"dataframe\">\n",
       "  <thead>\n",
       "    <tr style=\"text-align: right;\">\n",
       "      <th></th>\n",
       "      <th>landcover</th>\n",
       "      <th>label</th>\n",
       "      <th>UID</th>\n",
       "      <th>geometry</th>\n",
       "    </tr>\n",
       "  </thead>\n",
       "  <tbody>\n",
       "    <tr>\n",
       "      <th>84</th>\n",
       "      <td>0</td>\n",
       "      <td>None</td>\n",
       "      <td>84</td>\n",
       "      <td>POLYGON ((80.67455 22.43027, 80.67531 22.43030...</td>\n",
       "    </tr>\n",
       "    <tr>\n",
       "      <th>85</th>\n",
       "      <td>0</td>\n",
       "      <td>None</td>\n",
       "      <td>85</td>\n",
       "      <td>POLYGON ((80.65723 22.42607, 80.65768 22.42592...</td>\n",
       "    </tr>\n",
       "    <tr>\n",
       "      <th>86</th>\n",
       "      <td>0</td>\n",
       "      <td>None</td>\n",
       "      <td>86</td>\n",
       "      <td>POLYGON ((80.65207 22.42332, 80.65265 22.42369...</td>\n",
       "    </tr>\n",
       "    <tr>\n",
       "      <th>87</th>\n",
       "      <td>0</td>\n",
       "      <td>None</td>\n",
       "      <td>87</td>\n",
       "      <td>POLYGON ((80.67226 22.45327, 80.67233 22.45334...</td>\n",
       "    </tr>\n",
       "    <tr>\n",
       "      <th>88</th>\n",
       "      <td>0</td>\n",
       "      <td>None</td>\n",
       "      <td>88</td>\n",
       "      <td>POLYGON ((80.55076 22.51989, 80.55081 22.51995...</td>\n",
       "    </tr>\n",
       "  </tbody>\n",
       "</table>\n",
       "</div>"
      ],
      "text/plain": [
       "    landcover label  UID                                           geometry\n",
       "84          0  None   84  POLYGON ((80.67455 22.43027, 80.67531 22.43030...\n",
       "85          0  None   85  POLYGON ((80.65723 22.42607, 80.65768 22.42592...\n",
       "86          0  None   86  POLYGON ((80.65207 22.42332, 80.65265 22.42369...\n",
       "87          0  None   87  POLYGON ((80.67226 22.45327, 80.67233 22.45334...\n",
       "88          0  None   88  POLYGON ((80.55076 22.51989, 80.55081 22.51995..."
      ]
     },
     "execution_count": 15,
     "metadata": {},
     "output_type": "execute_result"
    }
   ],
   "source": [
    "gdf_LantROI.tail()"
   ]
  },
  {
   "cell_type": "code",
   "execution_count": 16,
   "id": "5d954c74",
   "metadata": {},
   "outputs": [
    {
     "data": {
      "text/html": [
       "<div>\n",
       "<style scoped>\n",
       "    .dataframe tbody tr th:only-of-type {\n",
       "        vertical-align: middle;\n",
       "    }\n",
       "\n",
       "    .dataframe tbody tr th {\n",
       "        vertical-align: top;\n",
       "    }\n",
       "\n",
       "    .dataframe thead th {\n",
       "        text-align: right;\n",
       "    }\n",
       "</style>\n",
       "<table border=\"1\" class=\"dataframe\">\n",
       "  <thead>\n",
       "    <tr style=\"text-align: right;\">\n",
       "      <th></th>\n",
       "      <th>landcover</th>\n",
       "      <th>label</th>\n",
       "      <th>UID</th>\n",
       "      <th>geometry</th>\n",
       "    </tr>\n",
       "  </thead>\n",
       "  <tbody>\n",
       "    <tr>\n",
       "      <th>84</th>\n",
       "      <td>0</td>\n",
       "      <td>Lantana</td>\n",
       "      <td>84</td>\n",
       "      <td>POLYGON ((80.67455 22.43027, 80.67531 22.43030...</td>\n",
       "    </tr>\n",
       "    <tr>\n",
       "      <th>85</th>\n",
       "      <td>0</td>\n",
       "      <td>Lantana</td>\n",
       "      <td>85</td>\n",
       "      <td>POLYGON ((80.65723 22.42607, 80.65768 22.42592...</td>\n",
       "    </tr>\n",
       "    <tr>\n",
       "      <th>86</th>\n",
       "      <td>0</td>\n",
       "      <td>Lantana</td>\n",
       "      <td>86</td>\n",
       "      <td>POLYGON ((80.65207 22.42332, 80.65265 22.42369...</td>\n",
       "    </tr>\n",
       "    <tr>\n",
       "      <th>87</th>\n",
       "      <td>0</td>\n",
       "      <td>Lantana</td>\n",
       "      <td>87</td>\n",
       "      <td>POLYGON ((80.67226 22.45327, 80.67233 22.45334...</td>\n",
       "    </tr>\n",
       "    <tr>\n",
       "      <th>88</th>\n",
       "      <td>0</td>\n",
       "      <td>Lantana</td>\n",
       "      <td>88</td>\n",
       "      <td>POLYGON ((80.55076 22.51989, 80.55081 22.51995...</td>\n",
       "    </tr>\n",
       "  </tbody>\n",
       "</table>\n",
       "</div>"
      ],
      "text/plain": [
       "    landcover    label  UID                                           geometry\n",
       "84          0  Lantana   84  POLYGON ((80.67455 22.43027, 80.67531 22.43030...\n",
       "85          0  Lantana   85  POLYGON ((80.65723 22.42607, 80.65768 22.42592...\n",
       "86          0  Lantana   86  POLYGON ((80.65207 22.42332, 80.65265 22.42369...\n",
       "87          0  Lantana   87  POLYGON ((80.67226 22.45327, 80.67233 22.45334...\n",
       "88          0  Lantana   88  POLYGON ((80.55076 22.51989, 80.55081 22.51995..."
      ]
     },
     "execution_count": 16,
     "metadata": {},
     "output_type": "execute_result"
    }
   ],
   "source": [
    "gdf_LantROI['label'].fillna('Lantana', inplace=True)\n",
    "gdf_LantROI.tail()"
   ]
  },
  {
   "cell_type": "code",
   "execution_count": 17,
   "id": "5dc5011f",
   "metadata": {},
   "outputs": [
    {
     "data": {
      "text/plain": [
       "<Geographic 2D CRS: EPSG:4326>\n",
       "Name: WGS 84\n",
       "Axis Info [ellipsoidal]:\n",
       "- Lat[north]: Geodetic latitude (degree)\n",
       "- Lon[east]: Geodetic longitude (degree)\n",
       "Area of Use:\n",
       "- name: World.\n",
       "- bounds: (-180.0, -90.0, 180.0, 90.0)\n",
       "Datum: World Geodetic System 1984\n",
       "- Ellipsoid: WGS 84\n",
       "- Prime Meridian: Greenwich"
      ]
     },
     "execution_count": 17,
     "metadata": {},
     "output_type": "execute_result"
    }
   ],
   "source": [
    "gdf_LantROI.crs"
   ]
  },
  {
   "cell_type": "code",
   "execution_count": 18,
   "id": "a9447aca",
   "metadata": {},
   "outputs": [
    {
     "data": {
      "text/plain": [
       "<AxesSubplot:>"
      ]
     },
     "execution_count": 18,
     "metadata": {},
     "output_type": "execute_result"
    },
    {
     "data": {
      "image/png": "[encoded data removed]",
      "text/plain": [
       "<Figure size 432x288 with 1 Axes>"
      ]
     },
     "metadata": {
      "needs_background": "light"
     },
     "output_type": "display_data"
    }
   ],
   "source": [
    "gdf_LantROI.plot()"
   ]
  },
  {
   "cell_type": "code",
   "execution_count": 47,
   "id": "f01fb907",
   "metadata": {},
   "outputs": [],
   "source": [
    "gdfLantTrain= gdf_LantROI.sample(frac = 0.7)\n",
    "gdf_FallowTrain =gdf_FallowROI.sample(frac = 0.7)\n",
    "gdf_ForestTrain = gdf_ForestROI.sample(frac = 0.7)\n",
    "gdf_WaterTrain = gdf_WaterROI.sample(frac = 0.7)\n",
    "gdf_CropTrain = gdf_CropROI.sample(frac = 0.7)\n",
    "gdf_BuiltTrain = gdf_BuiltROI.sample(frac = 0.7)\n",
    "gdf_RegenTrain = gdf_RegenROI.sample(frac = 0.7)\n",
    "\n",
    "#obtained from https://www.geeksforgeeks.org/divide-a-pandas-dataframe-randomly-in-a-given-ratio/"
   ]
  },
  {
   "cell_type": "code",
   "execution_count": 48,
   "id": "67bf92b4",
   "metadata": {},
   "outputs": [],
   "source": [
    "gdfLantValidation= gdf_LantROI.drop(gdfLantTrain.index)\n",
    "gdf_FallowValid= gdf_FallowROI.drop(gdf_FallowTrain.index)\n",
    "gdf_ForestValid= gdf_ForestROI.drop(gdf_ForestTrain.index)\n",
    "gdf_WaterValid= gdf_WaterROI.drop(gdf_WaterTrain.index)\n",
    "gdf_CropValid= gdf_CropROI.drop(gdf_CropTrain.index)\n",
    "gdf_BuiltValid= gdf_BuiltROI.drop(gdf_BuiltTrain.index)\n",
    "gdf_RegenValid= gdf_RegenROI.drop(gdf_RegenTrain.index)"
   ]
  },
  {
   "cell_type": "code",
   "execution_count": 29,
   "id": "b870b635",
   "metadata": {},
   "outputs": [
    {
     "data": {
      "text/plain": [
       "89"
      ]
     },
     "execution_count": 29,
     "metadata": {},
     "output_type": "execute_result"
    }
   ],
   "source": [
    "len(gdf_LantROI)\n"
   ]
  },
  {
   "cell_type": "code",
   "execution_count": 35,
   "id": "5c7e5686",
   "metadata": {},
   "outputs": [
    {
     "data": {
      "text/html": [
       "<div>\n",
       "<style scoped>\n",
       "    .dataframe tbody tr th:only-of-type {\n",
       "        vertical-align: middle;\n",
       "    }\n",
       "\n",
       "    .dataframe tbody tr th {\n",
       "        vertical-align: top;\n",
       "    }\n",
       "\n",
       "    .dataframe thead th {\n",
       "        text-align: right;\n",
       "    }\n",
       "</style>\n",
       "<table border=\"1\" class=\"dataframe\">\n",
       "  <thead>\n",
       "    <tr style=\"text-align: right;\">\n",
       "      <th></th>\n",
       "      <th>landcover</th>\n",
       "      <th>label</th>\n",
       "      <th>UID</th>\n",
       "      <th>geometry</th>\n",
       "    </tr>\n",
       "  </thead>\n",
       "  <tbody>\n",
       "    <tr>\n",
       "      <th>47</th>\n",
       "      <td>2</td>\n",
       "      <td>Lantana</td>\n",
       "      <td>47</td>\n",
       "      <td>POLYGON ((80.46408 22.43772, 80.46436 22.43773...</td>\n",
       "    </tr>\n",
       "    <tr>\n",
       "      <th>55</th>\n",
       "      <td>2</td>\n",
       "      <td>Lantana</td>\n",
       "      <td>55</td>\n",
       "      <td>POLYGON ((80.71971 22.37944, 80.72041 22.37984...</td>\n",
       "    </tr>\n",
       "    <tr>\n",
       "      <th>82</th>\n",
       "      <td>0</td>\n",
       "      <td>Lantana</td>\n",
       "      <td>82</td>\n",
       "      <td>POLYGON ((80.82437 22.40347, 80.82442 22.40349...</td>\n",
       "    </tr>\n",
       "    <tr>\n",
       "      <th>38</th>\n",
       "      <td>2</td>\n",
       "      <td>Lantana</td>\n",
       "      <td>38</td>\n",
       "      <td>POLYGON ((80.71039 22.39775, 80.71167 22.39843...</td>\n",
       "    </tr>\n",
       "    <tr>\n",
       "      <th>59</th>\n",
       "      <td>2</td>\n",
       "      <td>Lantana</td>\n",
       "      <td>59</td>\n",
       "      <td>POLYGON ((80.62632 22.45543, 80.62654 22.45580...</td>\n",
       "    </tr>\n",
       "    <tr>\n",
       "      <th>...</th>\n",
       "      <td>...</td>\n",
       "      <td>...</td>\n",
       "      <td>...</td>\n",
       "      <td>...</td>\n",
       "    </tr>\n",
       "    <tr>\n",
       "      <th>31</th>\n",
       "      <td>2</td>\n",
       "      <td>Lantana</td>\n",
       "      <td>31</td>\n",
       "      <td>POLYGON ((80.66487 22.42511, 80.66531 22.42500...</td>\n",
       "    </tr>\n",
       "    <tr>\n",
       "      <th>45</th>\n",
       "      <td>2</td>\n",
       "      <td>Lantana</td>\n",
       "      <td>45</td>\n",
       "      <td>POLYGON ((80.55325 22.50910, 80.55329 22.50909...</td>\n",
       "    </tr>\n",
       "    <tr>\n",
       "      <th>18</th>\n",
       "      <td>2</td>\n",
       "      <td>Lantana</td>\n",
       "      <td>18</td>\n",
       "      <td>POLYGON ((80.71162 22.38071, 80.71147 22.38152...</td>\n",
       "    </tr>\n",
       "    <tr>\n",
       "      <th>22</th>\n",
       "      <td>2</td>\n",
       "      <td>Lantana</td>\n",
       "      <td>22</td>\n",
       "      <td>POLYGON ((80.68010 22.40702, 80.67957 22.40779...</td>\n",
       "    </tr>\n",
       "    <tr>\n",
       "      <th>67</th>\n",
       "      <td>2</td>\n",
       "      <td>Lantana</td>\n",
       "      <td>67</td>\n",
       "      <td>POLYGON ((80.78160 22.39402, 80.78167 22.39414...</td>\n",
       "    </tr>\n",
       "  </tbody>\n",
       "</table>\n",
       "<p>62 rows × 4 columns</p>\n",
       "</div>"
      ],
      "text/plain": [
       "    landcover    label  UID                                           geometry\n",
       "47          2  Lantana   47  POLYGON ((80.46408 22.43772, 80.46436 22.43773...\n",
       "55          2  Lantana   55  POLYGON ((80.71971 22.37944, 80.72041 22.37984...\n",
       "82          0  Lantana   82  POLYGON ((80.82437 22.40347, 80.82442 22.40349...\n",
       "38          2  Lantana   38  POLYGON ((80.71039 22.39775, 80.71167 22.39843...\n",
       "59          2  Lantana   59  POLYGON ((80.62632 22.45543, 80.62654 22.45580...\n",
       "..        ...      ...  ...                                                ...\n",
       "31          2  Lantana   31  POLYGON ((80.66487 22.42511, 80.66531 22.42500...\n",
       "45          2  Lantana   45  POLYGON ((80.55325 22.50910, 80.55329 22.50909...\n",
       "18          2  Lantana   18  POLYGON ((80.71162 22.38071, 80.71147 22.38152...\n",
       "22          2  Lantana   22  POLYGON ((80.68010 22.40702, 80.67957 22.40779...\n",
       "67          2  Lantana   67  POLYGON ((80.78160 22.39402, 80.78167 22.39414...\n",
       "\n",
       "[62 rows x 4 columns]"
      ]
     },
     "execution_count": 35,
     "metadata": {},
     "output_type": "execute_result"
    }
   ],
   "source": [
    "len(gdfLantTrain)\n",
    "gdfLantTrain"
   ]
  },
  {
   "cell_type": "code",
   "execution_count": 33,
   "id": "36c895b2",
   "metadata": {},
   "outputs": [
    {
     "data": {
      "text/plain": [
       "27"
      ]
     },
     "execution_count": 33,
     "metadata": {},
     "output_type": "execute_result"
    }
   ],
   "source": [
    "len(gdfLantValidation)"
   ]
  },
  {
   "cell_type": "markdown",
   "id": "be6d396d",
   "metadata": {},
   "source": [
    "## Write training and validation polygons to file"
   ]
  },
  {
   "cell_type": "code",
   "execution_count": 38,
   "id": "a9d6b005",
   "metadata": {},
   "outputs": [],
   "source": [
    "gdfLantTrain.to_file(\"C:/Columbia/Spring2021/DirectedResearch/Data/classification/NewTrainingData/Feb2023/LantTrainingJuly2023.shp\")"
   ]
  },
  {
   "cell_type": "code",
   "execution_count": 39,
   "id": "d6f3e274",
   "metadata": {},
   "outputs": [],
   "source": [
    "gdfLantValidation.to_file(\"C:/Columbia/Spring2021/DirectedResearch/Data/classification/NewTrainingData/Feb2023/LantValidationJuly2023.shp\")"
   ]
  },
  {
   "cell_type": "code",
   "execution_count": 49,
   "id": "db5cdabe",
   "metadata": {},
   "outputs": [],
   "source": [
    "\n",
    "#gdfLantTrain.to_file(\"C:/Columbia/Spring2021/DirectedResearch/Data/classification/NewTrainingData/Feb2023/LantTrainingJuly2023.shp\")\n",
    "gdf_FallowTrain.to_file(\"C:/Columbia/Spring2021/DirectedResearch/Data/classification/NewTrainingData/Feb2023/FallowTrainingJuly2023.shp\")\n",
    "gdf_ForestTrain.to_file(\"C:/Columbia/Spring2021/DirectedResearch/Data/classification/NewTrainingData/Feb2023/ForestTrainingJuly2023.shp\")\n",
    "\n",
    "gdf_WaterTrain.to_file(\"C:/Columbia/Spring2021/DirectedResearch/Data/classification/NewTrainingData/Feb2023/WaterTrainingJuly2023.shp\")\n",
    "\n",
    "gdf_CropTrain.to_file(\"C:/Columbia/Spring2021/DirectedResearch/Data/classification/NewTrainingData/Feb2023/CropTrainingJuly2023.shp\")\n",
    "gdf_BuiltTrain.to_file(\"C:/Columbia/Spring2021/DirectedResearch/Data/classification/NewTrainingData/Feb2023/BuiltTrainingJuly2023.shp\")\n",
    "\n",
    "gdf_RegenTrain.to_file(\"C:/Columbia/Spring2021/DirectedResearch/Data/classification/NewTrainingData/Feb2023/RegenTrainingJuly2023.shp\")\n"
   ]
  },
  {
   "cell_type": "code",
   "execution_count": 50,
   "id": "a1f27b47",
   "metadata": {},
   "outputs": [],
   "source": [
    "#gdfLantTrain.to_file(\"C:/Columbia/Spring2021/DirectedResearch/Data/classification/NewTrainingData/Feb2023/LantTrainingJuly2023.shp\")\n",
    "gdf_FallowValid.to_file(\"C:/Columbia/Spring2021/DirectedResearch/Data/classification/NewTrainingData/Feb2023/FallowValidationJuly2023.shp\")\n",
    "gdf_ForestValid.to_file(\"C:/Columbia/Spring2021/DirectedResearch/Data/classification/NewTrainingData/Feb2023/ForestValidationJuly2023.shp\")\n",
    "\n",
    "gdf_WaterValid.to_file(\"C:/Columbia/Spring2021/DirectedResearch/Data/classification/NewTrainingData/Feb2023/WaterValidationJuly2023.shp\")\n",
    "\n",
    "gdf_CropValid.to_file(\"C:/Columbia/Spring2021/DirectedResearch/Data/classification/NewTrainingData/Feb2023/CropValidationJuly2023.shp\")\n",
    "gdf_BuiltValid.to_file(\"C:/Columbia/Spring2021/DirectedResearch/Data/classification/NewTrainingData/Feb2023/BuiltValidationJuly2023.shp\")\n",
    "\n",
    "gdf_RegenValid.to_file(\"C:/Columbia/Spring2021/DirectedResearch/Data/classification/NewTrainingData/Feb2023/RegenValidationJuly2023.shp\")\n"
   ]
  },
  {
   "cell_type": "code",
   "execution_count": null,
   "id": "aa1e33ef",
   "metadata": {},
   "outputs": [],
   "source": []
  }
 ],
 "metadata": {
  "hide_input": false,
  "kernelspec": {
   "display_name": "Python 3",
   "language": "python",
   "name": "python3"
  },
  "language_info": {
   "codemirror_mode": {
    "name": "ipython",
    "version": 3
   },
   "file_extension": ".py",
   "mimetype": "text/x-python",
   "name": "python",
   "nbconvert_exporter": "python",
   "pygments_lexer": "ipython3",
   "version": "3.6.12"
  }
 },
 "nbformat": 4,
 "nbformat_minor": 5
}
